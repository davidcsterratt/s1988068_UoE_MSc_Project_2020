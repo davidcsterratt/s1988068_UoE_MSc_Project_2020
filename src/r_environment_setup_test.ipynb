{
  "cells": [
    {
      "cell_type": "markdown",
      "source": [
        "# rpy2 tests\n",
        "  > pls run under r environment\n"
      ],
      "metadata": {
        "nteract": {
          "transient": {
            "deleting": false
          }
        }
      }
    },
    {
      "cell_type": "markdown",
      "source": [
        "## import and setup\n"
      ],
      "metadata": {
        "nteract": {
          "transient": {
            "deleting": false
          }
        }
      }
    },
    {
      "cell_type": "code",
      "source": [
        "\n",
        "import pandas as pd;\n",
        "import numpy as np;\n",
        "from matplotlib import pyplot as plt;\n",
        "from matplotlib import dates as mdates;\n",
        "import seaborn as sns;\n",
        "import sklearn;\n",
        "\n",
        "import rpy2;\n",
        "%load_ext rpy2.ipython\n",
        "\n",
        "import rpy2.robjects as ro;\n",
        "\n",
        "from rpy2.robjects import pandas2ri;\n",
        "from rpy2.robjects import default_converter\n",
        "from rpy2.robjects.conversion import localconverter;\n",
        "\n",
        "from rpy2.robjects.packages import importr;\n",
        "\n",
        "utils = importr(\"utils\");\n",
        "grdevices = importr('grDevices');\n",
        "infenergy = importr('infenergy');\n",
        "\n",
        "\n",
        "def help_r( python_name ):\n",
        "    print( str( utils.help( python_name.replace('_','.') ) ) );\n",
        "\n",
        "\n"
      ],
      "outputs": [],
      "execution_count": null,
      "metadata": {
        "collapsed": true,
        "jupyter": {
          "source_hidden": false,
          "outputs_hidden": false
        },
        "nteract": {
          "transient": {
            "deleting": false
          }
        }
      }
    },
    {
      "cell_type": "markdown",
      "source": [
        "# read and convert data\n"
      ],
      "metadata": {
        "nteract": {
          "transient": {
            "deleting": false
          }
        }
      }
    },
    {
      "cell_type": "code",
      "source": [
        "data = infenergy.get_inf_meter_data(\"2014-04-30\", \"2014-05-01\"); # as an r dataframe\n",
        "\n",
        "with localconverter(ro.default_converter + pandas2ri.converter):\n",
        "  data_converted = ro.conversion.rpy2py( data );\n",
        "\n",
        "data_converted = data_converted.reset_index( drop=True );\n",
        "data_converted.time = data_converted.time.dt.tz_convert('GMT');\n",
        "\n",
        "data_converted.info()\n",
        "\n",
        "\n",
        "print( data.head() )\n",
        "\n",
        "data_converted.head()\n"
      ],
      "outputs": [],
      "execution_count": null,
      "metadata": {
        "collapsed": true,
        "jupyter": {
          "source_hidden": false,
          "outputs_hidden": false
        },
        "nteract": {
          "transient": {
            "deleting": false
          }
        }
      }
    },
    {
      "cell_type": "markdown",
      "source": [
        "# Test plots\n"
      ],
      "metadata": {
        "nteract": {
          "transient": {
            "deleting": false
          }
        }
      }
    },
    {
      "cell_type": "code",
      "source": [
        "ax = data_converted.join(data_converted.cumkwh.diff().rename('diff')).dropna().plot( x='time', y='diff', figsize=(8,8) );\n",
        "ax.xaxis.set_major_formatter(mdates.DateFormatter(\"%H:%M\"));\n",
        "ax.set_xlabel('time');\n",
        "ax.set_ylabel('diff(cumkwh)');\n",
        "plt.show();\n",
        "\n",
        "%R example(get.inf.meter.data)"
      ],
      "outputs": [],
      "execution_count": null,
      "metadata": {
        "collapsed": true,
        "jupyter": {
          "source_hidden": false,
          "outputs_hidden": false
        },
        "nteract": {
          "transient": {
            "deleting": false
          }
        }
      }
    }
  ],
  "metadata": {},
  "nbformat": 4,
  "nbformat_minor": 0
}