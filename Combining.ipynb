{
  "cells": [
    {
      "cell_type": "markdown",
      "source": [
        "# Combining everything\n",
        "  > pls use the r envirnment\n"
      ],
      "metadata": {
        "nteract": {
          "transient": {
            "deleting": false
          }
        }
      }
    },
    {
      "cell_type": "markdown",
      "source": [
        "## import and setup\n"
      ],
      "metadata": {
        "nteract": {
          "transient": {
            "deleting": false
          }
        }
      }
    },
    {
      "cell_type": "code",
      "source": [
        "import os;\n",
        "pwd = os.getcwd;\n",
        "cd  = os.chdir;\n",
        "ls  = os.listdir;\n",
        "\n",
        "import re;\n",
        "\n",
        "import pandas as pd;\n",
        "import numpy as np;\n",
        "from matplotlib import pyplot as plt;\n",
        "from matplotlib import dates as mdates;\n",
        "import seaborn as sns;\n",
        "\n",
        "import rpy2;\n",
        "%load_ext rpy2.ipython\n",
        "\n",
        "import rpy2.robjects as ro;\n",
        "\n",
        "from rpy2.robjects import pandas2ri;\n",
        "from rpy2.robjects import default_converter\n",
        "from rpy2.robjects.conversion import localconverter;\n",
        "\n",
        "from rpy2.robjects.packages import importr;\n",
        "\n",
        "utils = importr(\"utils\");\n",
        "grdevices = importr('grDevices');\n",
        "infenergy = importr('infenergy');\n",
        "\n",
        "\n",
        "def help_r( python_name ):\n",
        "    print( str( utils.help( python_name.replace('_','.') ) ) );\n",
        "\n",
        "\n"
      ],
      "outputs": [],
      "execution_count": null,
      "metadata": {
        "collapsed": true,
        "jupyter": {
          "source_hidden": false,
          "outputs_hidden": false
        },
        "nteract": {
          "transient": {
            "deleting": false
          }
        }
      }
    },
    {
      "cell_type": "markdown",
      "source": [
        "## Read all from `forum_electricity` database\n",
        "i.e. time: \"2013-01-21 17:40:01 GMT\" \"2020-06-18 07:20:05 GMT\" ( pls update sm other time )\n",
        "\n",
        "and print basic Infos.\n"
      ],
      "metadata": {
        "nteract": {
          "transient": {
            "deleting": false
          }
        }
      }
    },
    {
      "cell_type": "code",
      "source": [
        "data = infenergy.get_inf_meter_data(\"2013-01-21\", \"2020-06-19\"); # as an r dataframe\n",
        "\n",
        "with localconverter(ro.default_converter + pandas2ri.converter):\n",
        "  data_converted   = ro.conversion.rpy2py( data );\n",
        "\n",
        "\n",
        "data_converted = data_converted.reset_index( drop=True );\n",
        "data_converted.time = data_converted.time.dt.tz_convert('GMT');\n",
        "\n",
        "data_converted.info()\n",
        "\n",
        "\n",
        "ax = data_converted.set_index('time')['2014-1-30':'2014-1-30'].diff().rename(columns={'cumkwh':'diff'}).dropna().plot()\n",
        "ax.set_xlabel('time');\n",
        "ax.set_ylabel('diff(cumkwh)');\n",
        "plt.show();\n",
        "\n"
      ],
      "outputs": [],
      "execution_count": null,
      "metadata": {
        "collapsed": true,
        "jupyter": {
          "source_hidden": false,
          "outputs_hidden": false
        },
        "nteract": {
          "transient": {
            "deleting": false
          }
        }
      }
    },
    {
      "cell_type": "code",
      "source": [
        "\n",
        "data_ups_AB_hourly = infenergy.get_ups_hourly(\"2013-01-21\", \"2020-06-19\", ['forumA','forumB'])\n",
        "\n",
        "with localconverter(ro.default_converter + pandas2ri.converter):\n",
        "  data_ups_AB_converted   = ro.conversion.rpy2py( data_ups_AB_hourly );\n",
        "\n",
        "\n",
        "data_ups_AB_converted = data_ups_AB_converted.reset_index( drop=True );\n",
        "data_ups_AB_converted.Time = data_ups_AB_converted.Time.dt.tz_convert('GMT');\n",
        "\n",
        "#data_ups_converted.dropna().shape\n",
        "#(data_ups_converted.dropna() == data_ups_AB_converted.dropna()).sum()\n",
        "\n",
        "\n",
        "\n",
        "ax = data_ups_AB_converted.set_index('Time').rename(columns={'cumkwh':'diff'}).resample('W').sum().dropna().plot()\n",
        "ax.set_xlabel('Time');\n",
        "ax.set_ylabel('diff(cumkwh)');\n",
        "plt.show();\n",
        "\n",
        "\n"
      ],
      "outputs": [],
      "execution_count": null,
      "metadata": {
        "collapsed": true,
        "jupyter": {
          "source_hidden": false,
          "outputs_hidden": false
        },
        "nteract": {
          "transient": {
            "deleting": false
          }
        }
      }
    },
    {
      "cell_type": "markdown",
      "source": [
        "## Read all from `../data/preprocessed/` and join with the data above\n",
        "\n"
      ],
      "metadata": {
        "nteract": {
          "transient": {
            "deleting": false
          }
        }
      }
    },
    {
      "cell_type": "code",
      "source": [
        "\n",
        "data_forum_electricity = data_converted;\n",
        "\n",
        "data_forum_electricity.head()\n",
        "data_forum_electricity.tail()\n",
        "\n",
        "# datetime type column as index helps joining and concating data\n",
        "\n",
        "gogar_2013 = pd.read_csv('~/Desktop/work/DS MSc/THESIS/code/data/preprocessed/WH/gogar_2013.csv', index_col='OB_TIME')\n",
        "gogar_2014 = pd.read_csv('~/Desktop/work/DS MSc/THESIS/code/data/preprocessed/WH/gogar_2014.csv', index_col='OB_TIME')\n",
        "gogar_2015 = pd.read_csv('~/Desktop/work/DS MSc/THESIS/code/data/preprocessed/WH/gogar_2015.csv', index_col='OB_TIME')\n",
        "gogar_2016 = pd.read_csv('~/Desktop/work/DS MSc/THESIS/code/data/preprocessed/WH/gogar_2016.csv', index_col='OB_TIME')\n",
        "gogar_2017 = pd.read_csv('~/Desktop/work/DS MSc/THESIS/code/data/preprocessed/WH/gogar_2017.csv', index_col='OB_TIME')\n",
        "gogar_2018 = pd.read_csv('~/Desktop/work/DS MSc/THESIS/code/data/preprocessed/WH/gogar_2018.csv', index_col='OB_TIME')\n",
        "gogar_2019 = pd.read_csv('~/Desktop/work/DS MSc/THESIS/code/data/preprocessed/WH/gogar_2019.csv', index_col='OB_TIME')\n",
        "gogar_2020 = pd.read_csv('~/Desktop/work/DS MSc/THESIS/code/data/preprocessed/WH/gogar_2020.csv', index_col='OB_TIME')\n",
        "\n",
        "gogar_rain_2013 = pd.read_csv('~/Desktop/work/DS MSc/THESIS/code/data/preprocessed/RH/gogar_rain_2013.csv', index_col='OB_END_TIME')\n",
        "gogar_rain_2014 = pd.read_csv('~/Desktop/work/DS MSc/THESIS/code/data/preprocessed/RH/gogar_rain_2014.csv', index_col='OB_END_TIME')\n",
        "gogar_rain_2015 = pd.read_csv('~/Desktop/work/DS MSc/THESIS/code/data/preprocessed/RH/gogar_rain_2015.csv', index_col='OB_END_TIME')\n",
        "gogar_rain_2016 = pd.read_csv('~/Desktop/work/DS MSc/THESIS/code/data/preprocessed/RH/gogar_rain_2016.csv', index_col='OB_END_TIME')\n",
        "gogar_rain_2017 = pd.read_csv('~/Desktop/work/DS MSc/THESIS/code/data/preprocessed/RH/gogar_rain_2017.csv', index_col='OB_END_TIME')\n",
        "gogar_rain_2018 = pd.read_csv('~/Desktop/work/DS MSc/THESIS/code/data/preprocessed/RH/gogar_rain_2018.csv', index_col='OB_END_TIME')\n",
        "gogar_rain_2019 = pd.read_csv('~/Desktop/work/DS MSc/THESIS/code/data/preprocessed/RH/gogar_rain_2019.csv', index_col='OB_END_TIME')\n",
        "gogar_rain_2020 = pd.read_csv('~/Desktop/work/DS MSc/THESIS/code/data/preprocessed/RH/gogar_rain_2020.csv', index_col='OB_END_TIME')\n",
        "\n",
        " \n",
        "gogar_rain = pd.concat([gogar_rain_2013, gogar_rain_2014, gogar_rain_2015, gogar_rain_2016, gogar_rain_2017, gogar_rain_2018, gogar_rain_2019, gogar_rain_2020])\n",
        "gogar_WH   = pd.concat([gogar_2013, gogar_2014, gogar_2015, gogar_2016, gogar_2017, gogar_2018, gogar_2019, gogar_2020])\n",
        "\n",
        "gogar_rain.index = pd.to_datetime(gogar_rain.index).tz_localize(tz='GMT')\n",
        "gogar_WH.index = pd.to_datetime(gogar_WH.index).tz_localize(tz='GMT')\n",
        "\n",
        "\n",
        "gogar_WH.shape\n",
        "nonEmpties_count = (gogar_WH == ' ').sum( axis = 0 )\n",
        "useful_columns = [ column for column in gogar_WH.columns if ( \n",
        "    column not in pd.DataFrame( nonEmpties_count[ nonEmpties_count > 64946/2 ] ).T.columns and \n",
        "        ( re.search(\"ID\", column) == None and \n",
        "            re.search(\"_Q\", column) == None and\n",
        "            re.search(\"_J\", column) == None\n",
        "        ) and \n",
        "    column not in ['MET_DOMAIN_NAME', 'VERSION_NUM', 'REC_ST_IND', 'SRC_OPR_TYPE','METO_STMP_TIME']\n",
        "    )]\n",
        "\n",
        "\n",
        "gogar_rain.shape\n",
        "rain_nonEmpties_count = (gogar_rain == ' ').sum( axis = 0 )\n",
        "rain_useful_columns = [ column for column in gogar_rain.columns if ( \n",
        "    column not in pd.DataFrame( rain_nonEmpties_count[ rain_nonEmpties_count > 64992/2 ] ).T.columns and \n",
        "        ( re.search(\"ID\", column) == None and \n",
        "            re.search(\"_Q\", column) == None and\n",
        "            re.search(\"_J\", column) == None\n",
        "        ) and \n",
        "    column not in ['MET_DOMAIN_NAME', 'VERSION_NUM', 'REC_ST_IND', 'METO_STMP_TIME', 'OB_HOUR_COUNT']\n",
        "    )]\n",
        "#gogar_WH[['AIR_TEMPERATURE','RLTV_HUM','DEWPOINT','WETB_TEMP','WMO_HR_SUN_DUR','MSL_PRESSURE','STN_PRES','WIND_SPEED','WIND_DIRECTION','VISIBILITY','CLD_BASE_HT']]\n",
        "\n",
        "#updated 5th August\n",
        "gogar_weather = gogar_WH[useful_columns].join(gogar_rain[rain_useful_columns])\n",
        "\n",
        "gogar_weather['2018']\n",
        "\n",
        "gogar_rain[rain_useful_columns]['PRCP_AMT'].value_counts()\n"
      ],
      "outputs": [],
      "execution_count": null,
      "metadata": {
        "collapsed": true,
        "jupyter": {
          "source_hidden": false,
          "outputs_hidden": false
        },
        "nteract": {
          "transient": {
            "deleting": false
          }
        }
      }
    },
    {
      "cell_type": "markdown",
      "source": [
        "all useful attributes found so far are concatinated and joined to the `gogar_weather` variable\n",
        "\n",
        "Since `forum_electricity` is sampled in roughly each 10 minutes, we need to re bin it to join to the gogar data.\n",
        "\n",
        "# Re-binning `forum_electricity`\n",
        "\n"
      ],
      "metadata": {
        "nteract": {
          "transient": {
            "deleting": false
          }
        }
      }
    },
    {
      "cell_type": "code",
      "source": [
        "\n",
        "# As we can see, interval is too irregular and to fine-grined for the GOGAR data.\n",
        "print( data_forum_electricity )\n",
        "\n",
        "\n",
        "\n",
        "# proposal\n",
        "data_forum_electricity_resampled = data_forum_electricity.set_index('time').resample('H').max();\n",
        "\n",
        "data_forum_electricity_resampled.shape\n",
        "\n",
        "data_forum_electricity_resampled.interpolate(method='linear').isna().cumkwh.value_counts()\n",
        "\n",
        "data_forum_electricity_resampled_interpolated = data_forum_electricity_resampled.interpolate(method='linear');\n",
        "\n",
        "data_forum_electricity_resampled_interpolated_diff = data_forum_electricity_resampled_interpolated.diff().dropna().rename(columns={'cumkwh':'bin_kwh'})\n",
        "\n",
        "# confirm quality\n",
        "fig, axs = plt.subplots(5, 2, figsize=(15,15))\n",
        "\n",
        "\n",
        "data_forum_electricity_resampled_interpolated_diff['2014-4-30':'2015-4-30'].plot(ax=axs[0, 0])\n",
        "data_forum_electricity.set_index('time')['2014-4-30':'2015-4-30'].diff(periods=6).rename(columns={'cumkwh':'diff'}).dropna().plot(ax=axs[0, 1])\n",
        "axs[0, 0].set_ylabel('1 year')\n",
        "\n",
        "data_forum_electricity_resampled_interpolated_diff['2014-4-30':'2014-11-20'].plot(ax=axs[1, 0])\n",
        "data_forum_electricity.set_index('time')['2014-4-30':'2014-11-20'].diff(periods=6).rename(columns={'cumkwh':'diff'}).dropna().plot(ax=axs[1, 1])\n",
        "axs[1, 0].set_ylabel('6 months')\n",
        "\n",
        "data_forum_electricity_resampled_interpolated_diff['2014-4-30':'2014-7-29'].plot(ax=axs[2, 0])\n",
        "data_forum_electricity.set_index('time')['2014-4-30':'2014-7-29'].diff(periods=6).rename(columns={'cumkwh':'diff'}).dropna().plot(ax=axs[2, 1])\n",
        "axs[2, 0].set_ylabel('3 months quarter')\n",
        "\n",
        "data_forum_electricity_resampled_interpolated_diff['2014-4-30':'2014-5-13'].plot(ax=axs[3, 0])\n",
        "data_forum_electricity.set_index('time')['2014-4-30':'2014-5-13'].diff(periods=6).rename(columns={'cumkwh':'diff'}).dropna().plot(ax=axs[3, 1])\n",
        "axs[3, 0].set_ylabel('2 weeks')\n",
        "\n",
        "data_forum_electricity_resampled_interpolated_diff['2014-4-30':'2014-4-30'].plot(ax=axs[4, 0])\n",
        "data_forum_electricity.set_index('time')['2014-4-30':'2014-4-30'].diff(periods=6).rename(columns={'cumkwh':'diff'}).dropna().plot(ax=axs[4, 1])\n",
        "axs[4, 0].set_ylabel('1 day')\n",
        "\n",
        "fig.tight_layout()\n",
        "plt.show()\n",
        "\n",
        "\n",
        "\n",
        "data_forum_electricity_resampled_interpolated_diff.describe()\n",
        "\n",
        "# NEW VERSION: 2020 august 12, already fixed tz problem, COMMENTING OUT\n",
        "# fix tz problem\n",
        "# gogar_weather.index = pd.to_datetime(gogar_weather.index).tz_localize(tz='GMT')\n",
        "gogar_weather.info()\n",
        "\n",
        "gogar_weather.index[0] #Timestamp('2013-01-01 00:00:00+0000', tz='GMT')\n",
        "gogar_weather.index[-1] #Timestamp('2020-05-31 23:00:00+0000', tz='GMT')\n",
        "combined_data_with_nans = gogar_weather.join( data_forum_electricity_resampled_interpolated_diff )['2013-01-21 18':'2020-6-1']\n",
        "combined_data_with_nans = combined_data_with_nans.replace(' ',np.nan)\n",
        "for feature in combined_data_with_nans:\n",
        "    print(feature)\n",
        "    combined_data_with_nans[feature] = pd.to_numeric(combined_data_with_nans[feature])"
      ],
      "outputs": [],
      "execution_count": null,
      "metadata": {
        "collapsed": true,
        "jupyter": {
          "source_hidden": false,
          "outputs_hidden": false
        },
        "nteract": {
          "transient": {
            "deleting": false
          }
        }
      }
    },
    {
      "cell_type": "markdown",
      "source": [
        "# Combined data: `combined_data_with_nans`\n",
        "\n",
        "## EDA:\n"
      ],
      "metadata": {
        "nteract": {
          "transient": {
            "deleting": false
          }
        }
      }
    },
    {
      "cell_type": "code",
      "source": [
        "\n",
        "combined_data_with_nans.info()\n",
        "\n",
        "combined_data_with_nans.describe()\n",
        "\n",
        "combined_data_with_nans.shape\n",
        "\n",
        "fig, axs = plt.subplots(4, 4, figsize=(15,15))\n",
        "combined_data_with_nans['AIR_TEMPERATURE'].plot(ax=axs[0,0], title='AIR_TEMPERATURE')\n",
        "combined_data_with_nans['RLTV_HUM'].plot(ax=axs[0,1], title='RLTV_HUM')\n",
        "combined_data_with_nans['DEWPOINT'].plot(ax=axs[0,2], title='DEWPOINT')\n",
        "combined_data_with_nans['WETB_TEMP'].plot(ax=axs[0,3], title='WETB_TEMP')\n",
        "combined_data_with_nans['WMO_HR_SUN_DUR'].plot(ax=axs[1,0], title='WMO_HR_SUN_DUR')\n",
        "combined_data_with_nans['MSL_PRESSURE'].plot(ax=axs[1,1], title='MSL_PRESSURE')\n",
        "combined_data_with_nans['STN_PRES'].plot(ax=axs[1,2], title='STN_PRES')\n",
        "combined_data_with_nans['WIND_SPEED'].plot(ax=axs[1,3], title='WIND_SPEED')\n",
        "combined_data_with_nans['WIND_DIRECTION'].plot(ax=axs[2,0], title='WIND_DIRECTION')\n",
        "combined_data_with_nans['VISIBILITY'].plot(ax=axs[2,1], title='VISIBILITY')\n",
        "combined_data_with_nans['CLD_BASE_HT'].plot(ax=axs[2,2], title='CLD_BASE_HT')\n",
        "combined_data_with_nans['PRCP_AMT'].plot(ax=axs[2,3], title='PRCP_AMT')\n",
        "combined_data_with_nans['bin_kwh'].plot(ax=axs[3,0], title='bin_kwh')\n",
        "\n",
        "fig.tight_layout()\n",
        "\n",
        "plt.show()\n",
        "\n",
        "plt.figure(figsize=(10,10))\n",
        "sns.heatmap(\n",
        "    combined_data_with_nans.dropna().corr(),\n",
        "    cmap=plt.cm.coolwarm,\n",
        "    vmax=1.0,\n",
        "    linewidths=0.1,\n",
        "    linecolor='white',\n",
        "    square=True,\n",
        "    annot=True\n",
        ")\n",
        "\n"
      ],
      "outputs": [],
      "execution_count": null,
      "metadata": {
        "collapsed": true,
        "jupyter": {
          "source_hidden": false,
          "outputs_hidden": false
        },
        "nteract": {
          "transient": {
            "deleting": false
          }
        }
      }
    },
    {
      "cell_type": "markdown",
      "source": [
        "# Write to files\n",
        "\n"
      ],
      "metadata": {
        "nteract": {
          "transient": {
            "deleting": false
          }
        }
      }
    },
    {
      "cell_type": "code",
      "source": [
        "\n",
        "# commented out because I CAN haha ( fr io can be slow and prone to errors )\n",
        "\n",
        "# data_forum_electricity.to_csv( path_or_buf='../data/preprocessed/UOE/data_forum_electricity.csv')\n",
        "# data_forum_electricity_resampled_interpolated.to_csv( path_or_buf='../data/preprocessed/UOE/data_forum_electricity_resampled_interpolated.csv')\n",
        "# data_forum_electricity_resampled_interpolated_diff.to_csv( path_or_buf='../data/preprocessed/UOE/data_forum_electricity_resampled_interpolated_diff.csv')\n",
        "# combined_data_with_nans.to_csv( path_or_buf='/Users/lautinyeung/Desktop/work/DS MSc/THESIS/code/data/preprocessed/combined/combined_data_with_nans.csv')\n"
      ],
      "outputs": [],
      "execution_count": null,
      "metadata": {
        "collapsed": true,
        "jupyter": {
          "source_hidden": false,
          "outputs_hidden": false
        },
        "nteract": {
          "transient": {
            "deleting": false
          }
        }
      }
    },
    {
      "cell_type": "markdown",
      "source": [
        "# L R test\n"
      ],
      "metadata": {
        "nteract": {
          "transient": {
            "deleting": false
          }
        }
      }
    },
    {
      "cell_type": "code",
      "source": [
        "from sklearn.linear_model import LinearRegression;\n",
        "from sklearn.model_selection import train_test_split;\n",
        "\n",
        "\n",
        "\n",
        "combined_data_dropped = combined_data_with_nans.dropna()\n",
        "\n",
        "combined_data_dropped.shape\n",
        "features = combined_data_dropped.iloc[:,0:12];\n",
        "target   = combined_data_dropped.iloc[:,12:13];\n",
        "\n",
        "features\n",
        "target\n",
        "\n",
        "train_features, test_features, train_target, test_target = train_test_split(features, target, \n",
        "                                                                test_size=0.33, random_state=123)\n",
        "\n",
        "myLR = LinearRegression().fit(train_features, train_target);\n",
        "myLR.score(train_features,train_target)\n",
        "myLR.score(test_features,test_target)\n",
        "\n",
        "myLR.coef_\n",
        "myLR.intercept_\n",
        "sns.lineplot(x=test_target.index, y=myLR.predict(test_features)[:,0])\n",
        "\n",
        "test_target.plot()\n",
        "\n",
        "\n",
        "ax = data_forum_electricity_resampled_interpolated_diff['2014-4-30'].reset_index().plot(y='bin_kwh')\n",
        "data_forum_electricity_resampled_interpolated_diff['2014-12-30'].reset_index().plot( y='bin_kwh', ax=ax)"
      ],
      "outputs": [],
      "execution_count": null,
      "metadata": {
        "collapsed": true,
        "jupyter": {
          "source_hidden": false,
          "outputs_hidden": false
        },
        "nteract": {
          "transient": {
            "deleting": false
          }
        }
      }
    }
  ],
  "metadata": {
    "kernelspec": {
      "argv": [
        "/Users/lautinyeung/miniconda3/envs/r/bin/python",
        "-m",
        "ipykernel_launcher",
        "-f",
        "{connection_file}"
      ],
      "display_name": "Python 3",
      "language": "python",
      "name": "python3"
    }
  },
  "nbformat": 4,
  "nbformat_minor": 0
}